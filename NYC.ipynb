{
 "cells": [
  {
   "cell_type": "markdown",
   "metadata": {},
   "source": [
    "#references and inspirations:\n",
    "\n",
    "%% html\n",
    "<li>\n",
    "<a href=\"https://medium.freecodecamp.org/what-i-learned-from-analyzing-more-than-80-job-rejections-with-python-11044ee6927b\">  Conor Dewey</a>\n",
    "</li>\n",
    "<li>\n",
    "<a href=\"https://blog.bufferapp.com/8-effective-email-strategies-backed-by-research\">  Email marketing Strtgies</a>\n",
    "</li>\n",
    "\n",
    "\n",
    "\n"
   ]
  },
  {
   "cell_type": "markdown",
   "metadata": {},
   "source": [
    "In this project I have tried to study promotional marketing emails, the frequent terms they use, how frequently they reach out to you etc. I have gathered this data from my personal email. I have subscribed to NYC and GAP for their promotional emails\n",
    "Here's what I have found:\n",
    "\n",
    "1. None of the mails were addressed with my name 'Dnyanada'\n",
    "<br>\n",
    "Personalization is great but mentioning mu name as 'dnyanada p','d',or 'dny' is not going to help.\n",
    "but personalization with respect to my last purchase, or related to my interests is great\n",
    "<br>\n",
    "<br>\n",
    "2. Subject lines\n",
    "<br>\n",
    "we have seen the catchy attention grabbing Subject line terms such as '% off','$', Code, 'Extra' really entice readers to \n",
    "open mails and browse.\n",
    "<br>\n",
    "<br>\n",
    "\n",
    "3. Length of Subject lines:<br>\n",
    "__Gap__: most frequent 40-60 chars long<br>\n",
    "__NYC__: most frequent 30-40 chars long\n",
    "<br>\n",
    "<br>\n",
    "\n",
    "4. Hours of mails<br>\n",
    "__Gap__: 7 am<br>\n",
    "__NYC__: 4 am and 5 pm This was mails received but if sent in EST they were timed ar 7 am and 8 pm\n",
    "<br>\n",
    "<br>\n",
    "\n",
    "5. Days<br>\n",
    "__Gap__ : prefers Sundays the most<br>\n",
    "__NYC__ : All days are the Same while Sunday and Thuursday are most preferred\n",
    "<br>\n",
    "<br>\n",
    "\n",
    "6. Having a attention grabbing CTA in Subject line is very important\n",
    "<br>\n",
    "<br>\n",
    "7. Throw in Numbers, discounts, codes, % offs etc\n",
    "<br>\n",
    "<br>\n",
    "8. Most of the mails have interactive GIFs,clickable images, hyperlinks and very minimal textual content\n",
    "<br>\n",
    "<br>\n",
    "9. Using different subject lines and making sure it is not repeatative\n",
    "<br>\n",
    "<br>\n",
    "10. Know your audience if data shows most emails are opened on mobile devices ten ensure your mail/website is optimized\n",
    "<br>\n",
    "<br>\n",
    "\n"
   ]
  },
  {
   "cell_type": "code",
   "execution_count": 1,
   "metadata": {
    "ExecuteTime": {
     "end_time": "2018-12-25T08:27:51.870867Z",
     "start_time": "2018-12-25T08:27:46.442364Z"
    },
    "collapsed": true
   },
   "outputs": [],
   "source": [
    "# Imports\n",
    "import pandas as pd\n",
    "import numpy as np\n",
    "import matplotlib.pyplot as plt\n",
    "import seaborn as sns\n",
    "import email, getpass, imaplib, os, re\n",
    "from datetime import datetime\n",
    "%matplotlib inline\n",
    "sns.set_style('whitegrid')"
   ]
  },
  {
   "cell_type": "code",
   "execution_count": 208,
   "metadata": {
    "ExecuteTime": {
     "end_time": "2018-12-26T23:16:51.425726Z",
     "start_time": "2018-12-26T23:16:44.057460Z"
    }
   },
   "outputs": [
    {
     "name": "stdout",
     "output_type": "stream",
     "text": [
      "Enter your GMail username:your email will come here\n",
      "Enter your password: ········\n"
     ]
    }
   ],
   "source": [
    "# Login to gmail\n",
    "# to make this work please 'allow less secure apps to access mail' option enabled\n",
    "\n",
    "user = input(\"Enter your GMail username:\")\n",
    "pwd = getpass.getpass(\"Enter your password: \")"
   ]
  },
  {
   "cell_type": "code",
   "execution_count": 206,
   "metadata": {
    "ExecuteTime": {
     "end_time": "2018-12-26T23:16:25.599642Z",
     "start_time": "2018-12-26T23:16:25.589651Z"
    }
   },
   "outputs": [],
   "source": [
    "# Connect to gmail imap sever\n",
    "m = imaplib.IMAP4_SSL(\"imap.gmail.com\")\n",
    "m.login(user, pwd)"
   ]
  },
  {
   "cell_type": "code",
   "execution_count": 4,
   "metadata": {
    "ExecuteTime": {
     "end_time": "2018-12-25T08:28:12.722382Z",
     "start_time": "2018-12-25T08:28:12.551472Z"
    }
   },
   "outputs": [
    {
     "data": {
      "text/plain": [
       "('OK', [b'1786'])"
      ]
     },
     "execution_count": 4,
     "metadata": {},
     "output_type": "execute_result"
    }
   ],
   "source": [
    "# Go to correct directory\n",
    "#m.list()\n",
    "m.select('\"nyc2\"')"
   ]
  },
  {
   "cell_type": "markdown",
   "metadata": {},
   "source": [
    "# For more options on Search Criterion\n",
    "\n",
    "%% html\n",
    "<a href=\"https://www.example-code.com/python/imap_search.asp\n",
    "\"> Click Here</a>\n",
    "you can search ALL, ANSWERED, FROM or with Data range emails etc"
   ]
  },
  {
   "cell_type": "code",
   "execution_count": 5,
   "metadata": {
    "ExecuteTime": {
     "end_time": "2018-12-25T08:28:12.841306Z",
     "start_time": "2018-12-25T08:28:12.733370Z"
    },
    "collapsed": true
   },
   "outputs": [],
   "source": [
    "resp, items = m.search(None, \"All\")\n",
    "items = items[0].split()"
   ]
  },
  {
   "cell_type": "code",
   "execution_count": 8,
   "metadata": {
    "ExecuteTime": {
     "end_time": "2018-12-25T08:28:14.352442Z",
     "start_time": "2018-12-25T08:28:14.336450Z"
    },
    "collapsed": true
   },
   "outputs": [],
   "source": [
    "# Initialize lists\n",
    "text = []\n",
    "dates = []\n",
    "subjects = []"
   ]
  },
  {
   "cell_type": "code",
   "execution_count": 146,
   "metadata": {
    "ExecuteTime": {
     "end_time": "2018-12-26T21:33:09.460378Z",
     "start_time": "2018-12-26T21:33:09.447625Z"
    },
    "collapsed": true
   },
   "outputs": [],
   "source": [
    "# RFC 822 standard even http follow this standard. it consists of header msgs followed by a blank line followed by msg"
   ]
  },
  {
   "cell_type": "code",
   "execution_count": 9,
   "metadata": {
    "ExecuteTime": {
     "end_time": "2018-12-25T08:33:49.452036Z",
     "start_time": "2018-12-25T08:28:14.866148Z"
    }
   },
   "outputs": [],
   "source": [
    "# Collect data\n",
    "for emailid in items:\n",
    "    \n",
    "    # Fetch everything from the id\n",
    "    resp, data = m.fetch(emailid, \"(RFC822)\")\n",
    "    \n",
    "    # Get the content\n",
    "    email_body = data[0][1]\n",
    "    \n",
    "    # Convert to mail object\n",
    "    mail = email.message_from_bytes(email_body)\n",
    "    \n",
    "    # Get subject\n",
    "    subjects.append(email.header.decode_header(mail['Subject'])[0][0])\n",
    "    \n",
    "    # Get date\n",
    "    \n",
    "    date_tuple = email.utils.parsedate_tz(mail['Date'])\n",
    "    dates.append(datetime.fromtimestamp(email.utils.mktime_tz(date_tuple)))\n",
    "    \n",
    "    # Get text\n",
    "    if mail.is_multipart():\n",
    "        text.append(mail.get_payload(0).get_payload())\n",
    "    else:\n",
    "        text.append(mail.get_payload())"
   ]
  },
  {
   "cell_type": "code",
   "execution_count": 10,
   "metadata": {
    "ExecuteTime": {
     "end_time": "2018-12-25T08:33:49.609443Z",
     "start_time": "2018-12-25T08:33:49.457196Z"
    }
   },
   "outputs": [
    {
     "data": {
      "text/html": [
       "<div>\n",
       "<style>\n",
       "    .dataframe thead tr:only-child th {\n",
       "        text-align: right;\n",
       "    }\n",
       "\n",
       "    .dataframe thead th {\n",
       "        text-align: left;\n",
       "    }\n",
       "\n",
       "    .dataframe tbody tr th {\n",
       "        vertical-align: top;\n",
       "    }\n",
       "</style>\n",
       "<table border=\"1\" class=\"dataframe\">\n",
       "  <thead>\n",
       "    <tr style=\"text-align: right;\">\n",
       "      <th></th>\n",
       "      <th>Date</th>\n",
       "      <th>Subject</th>\n",
       "      <th>Text</th>\n",
       "    </tr>\n",
       "  </thead>\n",
       "  <tbody>\n",
       "    <tr>\n",
       "      <th>0</th>\n",
       "      <td>2018-12-24 10:20:27</td>\n",
       "      <td>You Still Have Time!</td>\n",
       "      <td>If you are unable to see the images in this em...</td>\n",
       "    </tr>\n",
       "    <tr>\n",
       "      <th>1</th>\n",
       "      <td>2018-12-24 04:01:21</td>\n",
       "      <td>80% Off Last Chance Clearance Event</td>\n",
       "      <td>If you are unable to see the images in this em...</td>\n",
       "    </tr>\n",
       "    <tr>\n",
       "      <th>2</th>\n",
       "      <td>2018-12-23 17:23:40</td>\n",
       "      <td>Re: Your Holiday Trip...</td>\n",
       "      <td>If you are unable to see the images in this em...</td>\n",
       "    </tr>\n",
       "    <tr>\n",
       "      <th>3</th>\n",
       "      <td>2018-12-23 13:31:16</td>\n",
       "      <td>50% + 20% Off All Eva, Gabrielle &amp; More</td>\n",
       "      <td>If you are unable to see the images in this em...</td>\n",
       "    </tr>\n",
       "    <tr>\n",
       "      <th>4</th>\n",
       "      <td>2018-12-23 04:02:38</td>\n",
       "      <td>$2 Cozy Socks In Stores Today Only</td>\n",
       "      <td>If you are unable to see the images in this em...</td>\n",
       "    </tr>\n",
       "  </tbody>\n",
       "</table>\n",
       "</div>"
      ],
      "text/plain": [
       "                 Date                                  Subject  \\\n",
       "0 2018-12-24 10:20:27                     You Still Have Time!   \n",
       "1 2018-12-24 04:01:21      80% Off Last Chance Clearance Event   \n",
       "2 2018-12-23 17:23:40                 Re: Your Holiday Trip...   \n",
       "3 2018-12-23 13:31:16  50% + 20% Off All Eva, Gabrielle & More   \n",
       "4 2018-12-23 04:02:38       $2 Cozy Socks In Stores Today Only   \n",
       "\n",
       "                                                Text  \n",
       "0  If you are unable to see the images in this em...  \n",
       "1  If you are unable to see the images in this em...  \n",
       "2  If you are unable to see the images in this em...  \n",
       "3  If you are unable to see the images in this em...  \n",
       "4  If you are unable to see the images in this em...  "
      ]
     },
     "execution_count": 10,
     "metadata": {},
     "output_type": "execute_result"
    }
   ],
   "source": [
    "# Convert to dataframe\n",
    "nyc = pd.DataFrame(data={'Date': dates, 'Subject': subjects, 'Text': text})\n",
    "nyc.head()"
   ]
  },
  {
   "cell_type": "code",
   "execution_count": 11,
   "metadata": {
    "ExecuteTime": {
     "end_time": "2018-12-25T08:34:08.218271Z",
     "start_time": "2018-12-25T08:34:08.192285Z"
    }
   },
   "outputs": [
    {
     "data": {
      "text/plain": [
       "Date       datetime64[ns]\n",
       "Subject            object\n",
       "Text               object\n",
       "dtype: object"
      ]
     },
     "execution_count": 11,
     "metadata": {},
     "output_type": "execute_result"
    }
   ],
   "source": [
    "nyc.dtypes"
   ]
  },
  {
   "cell_type": "code",
   "execution_count": 12,
   "metadata": {
    "ExecuteTime": {
     "end_time": "2018-12-25T08:34:09.616492Z",
     "start_time": "2018-12-25T08:34:09.267189Z"
    }
   },
   "outputs": [],
   "source": [
    "# Break up date column\n",
    "nyc['Time'] = nyc['Date'].apply(lambda x: x.time())\n",
    "nyc['Day'] = nyc['Date'].apply(lambda x: x.weekday()).map({0:'Mon', 1:'Tues', 2:'Weds', \n",
    "                                                         3:'Thurs', 4:'Fri', 5:'Sat', 6:'Sun'})\n",
    "nyc['Hour'] = nyc['Time'].apply(lambda x: x.hour)\n",
    "nyc['Date_dt'] =nyc['Date'].apply(lambda x:x.date())\n",
    "nyc['Date_dt']=pd.to_datetime(nyc['Date_dt'])\n",
    "nyc.drop(['Date'],axis=1,inplace=True)\n",
    "nyc = nyc[['Date_dt', 'Time', 'Day', 'Hour', 'Subject', 'Text']]"
   ]
  },
  {
   "cell_type": "code",
   "execution_count": 13,
   "metadata": {
    "ExecuteTime": {
     "end_time": "2018-12-25T08:34:14.120952Z",
     "start_time": "2018-12-25T08:34:13.873085Z"
    }
   },
   "outputs": [
    {
     "name": "stdout",
     "output_type": "stream",
     "text": [
      "<class 'pandas.core.frame.DataFrame'>\n",
      "RangeIndex: 1786 entries, 0 to 1785\n",
      "Data columns (total 6 columns):\n",
      "Date_dt    1786 non-null datetime64[ns]\n",
      "Time       1786 non-null object\n",
      "Day        1786 non-null object\n",
      "Hour       1786 non-null int64\n",
      "Subject    1786 non-null object\n",
      "Text       1786 non-null object\n",
      "dtypes: datetime64[ns](1), int64(1), object(4)\n",
      "memory usage: 83.8+ KB\n"
     ]
    }
   ],
   "source": [
    "nyc.info()"
   ]
  },
  {
   "cell_type": "code",
   "execution_count": 14,
   "metadata": {
    "ExecuteTime": {
     "end_time": "2018-12-25T08:34:15.201145Z",
     "start_time": "2018-12-25T08:34:15.191148Z"
    }
   },
   "outputs": [],
   "source": [
    "ny_plt=nyc"
   ]
  },
  {
   "cell_type": "code",
   "execution_count": 15,
   "metadata": {
    "ExecuteTime": {
     "end_time": "2018-12-25T08:34:16.384668Z",
     "start_time": "2018-12-25T08:34:16.300693Z"
    }
   },
   "outputs": [
    {
     "data": {
      "text/plain": [
       "2018-11-25    5\n",
       "2018-11-26    5\n",
       "2018-09-06    4\n",
       "2018-10-02    4\n",
       "2017-09-03    4\n",
       "Name: Date_dt, dtype: int64"
      ]
     },
     "execution_count": 15,
     "metadata": {},
     "output_type": "execute_result"
    }
   ],
   "source": [
    "ny_plt.drop(['Time','Day','Hour','Text'],axis=1)\n",
    "ny_plt=ny_plt['Date_dt'].value_counts()\n",
    "ny_plt.head()"
   ]
  },
  {
   "cell_type": "code",
   "execution_count": 16,
   "metadata": {
    "ExecuteTime": {
     "end_time": "2018-12-25T08:34:17.331209Z",
     "start_time": "2018-12-25T08:34:17.312218Z"
    }
   },
   "outputs": [
    {
     "data": {
      "text/plain": [
       "pandas.core.frame.DataFrame"
      ]
     },
     "execution_count": 16,
     "metadata": {},
     "output_type": "execute_result"
    }
   ],
   "source": [
    "ny_plt=pd.DataFrame(ny_plt)\n",
    "type(ny_plt)"
   ]
  },
  {
   "cell_type": "code",
   "execution_count": 18,
   "metadata": {
    "ExecuteTime": {
     "end_time": "2018-12-25T08:34:24.129116Z",
     "start_time": "2018-12-25T08:34:19.497336Z"
    }
   },
   "outputs": [
    {
     "data": {
      "image/png": "[encoded data removed]",
      "text/plain": [
       "<matplotlib.figure.Figure at 0x1cec5b79e80>"
      ]
     },
     "metadata": {},
     "output_type": "display_data"
    }
   ],
   "source": [
    "import pandas as pd\n",
    "import matplotlib.pyplot as plt\n",
    "import matplotlib.dates as mdates\n",
    "\n",
    "#ny_plt.set_index('Date_dt',inplace=True)\n",
    "#plot data\n",
    "ny_plt['count']=ny_plt['Date_dt']\n",
    "#ny_plt.drop(['Date_dt'],axis=1)\n",
    "fig, ax = plt.subplots(figsize=(15,7))\n",
    "#ny_plt.drop(['Date_dt'],axis=1).plot(ax=ax,color='blue', linewidth=1, alpha=0.4)\n",
    "ax.bar(ny_plt.index, ny_plt['count'],color='blue', linewidth=1, alpha=0.4)\n",
    "#set ticks every week\n",
    "ax.xaxis.set_major_locator(mdates.AutoDateLocator())\n",
    "\n",
    "#set major ticks format\n",
    "ax.xaxis.set_major_formatter(mdates.DateFormatter('%b %d %y'))"
   ]
  },
  {
   "cell_type": "markdown",
   "metadata": {},
   "source": [
    "# What Days Most Frequent?\n",
    "\n",
    "it seems that they send out same number of emails everyday. however Thursday and Sunday is matter the most!"
   ]
  },
  {
   "cell_type": "code",
   "execution_count": 19,
   "metadata": {
    "ExecuteTime": {
     "end_time": "2018-12-25T08:34:30.736060Z",
     "start_time": "2018-12-25T08:34:29.935521Z"
    },
    "scrolled": false
   },
   "outputs": [
    {
     "data": {
      "image/png": "[encoded data removed]",
      "text/plain": [
       "<matplotlib.figure.Figure at 0x1cec9abfa20>"
      ]
     },
     "metadata": {},
     "output_type": "display_data"
    }
   ],
   "source": [
    "# Visualization\n",
    "\n",
    "plt.figure(figsize=(12,8))\n",
    "\n",
    "sns.set(font_scale=1.8)\n",
    "sns.set_style('whitegrid')\n",
    "sns.countplot(nyc['Day'], order=['Mon', 'Tues', 'Weds', 'Thurs', 'Fri', 'Sat', 'Sun'],linewidth=5,edgecolor=sns.color_palette(\"dark\", 7));\n",
    "plt.xlabel('Day of the Week')\n",
    "plt.ylabel('Count');\n"
   ]
  },
  {
   "cell_type": "markdown",
   "metadata": {},
   "source": [
    "# Popular dates "
   ]
  },
  {
   "cell_type": "code",
   "execution_count": 20,
   "metadata": {
    "ExecuteTime": {
     "end_time": "2018-12-25T08:34:33.731611Z",
     "start_time": "2018-12-25T08:34:33.660651Z"
    }
   },
   "outputs": [
    {
     "data": {
      "text/plain": [
       "2018-11-25    5\n",
       "2018-11-26    5\n",
       "2018-09-06    4\n",
       "2018-10-02    4\n",
       "2017-09-03    4\n",
       "Name: Date_dt, dtype: int64"
      ]
     },
     "execution_count": 20,
     "metadata": {},
     "output_type": "execute_result"
    }
   ],
   "source": [
    "nyc['Date_dt'].value_counts().head()"
   ]
  },
  {
   "cell_type": "code",
   "execution_count": 21,
   "metadata": {
    "ExecuteTime": {
     "end_time": "2018-12-25T08:34:34.822700Z",
     "start_time": "2018-12-25T08:34:34.762735Z"
    }
   },
   "outputs": [
    {
     "data": {
      "text/html": [
       "<div>\n",
       "<style>\n",
       "    .dataframe thead tr:only-child th {\n",
       "        text-align: right;\n",
       "    }\n",
       "\n",
       "    .dataframe thead th {\n",
       "        text-align: left;\n",
       "    }\n",
       "\n",
       "    .dataframe tbody tr th {\n",
       "        vertical-align: top;\n",
       "    }\n",
       "</style>\n",
       "<table border=\"1\" class=\"dataframe\">\n",
       "  <thead>\n",
       "    <tr style=\"text-align: right;\">\n",
       "      <th></th>\n",
       "      <th>Date_dt</th>\n",
       "      <th>Time</th>\n",
       "      <th>Day</th>\n",
       "      <th>Hour</th>\n",
       "      <th>Subject</th>\n",
       "      <th>Text</th>\n",
       "    </tr>\n",
       "  </thead>\n",
       "  <tbody>\n",
       "    <tr>\n",
       "      <th>105</th>\n",
       "      <td>2018-11-26</td>\n",
       "      <td>19:56:48</td>\n",
       "      <td>Mon</td>\n",
       "      <td>19</td>\n",
       "      <td>PM Price Drop - $16.20 Puffer Jackets</td>\n",
       "      <td>If you are unable to see the images in this em...</td>\n",
       "    </tr>\n",
       "    <tr>\n",
       "      <th>106</th>\n",
       "      <td>2018-11-26</td>\n",
       "      <td>17:45:43</td>\n",
       "      <td>Mon</td>\n",
       "      <td>17</td>\n",
       "      <td>NOW! EXTRA 10% OFF All Our Lowest Prices!</td>\n",
       "      <td>If you are unable to see the images in this em...</td>\n",
       "    </tr>\n",
       "    <tr>\n",
       "      <th>107</th>\n",
       "      <td>2018-11-26</td>\n",
       "      <td>13:45:21</td>\n",
       "      <td>Mon</td>\n",
       "      <td>13</td>\n",
       "      <td>BREAKING NOW: $9 Sweaters &amp; $18 Jackets</td>\n",
       "      <td>If you are unable to see the images in this em...</td>\n",
       "    </tr>\n",
       "    <tr>\n",
       "      <th>108</th>\n",
       "      <td>2018-11-26</td>\n",
       "      <td>09:34:37</td>\n",
       "      <td>Mon</td>\n",
       "      <td>9</td>\n",
       "      <td>b'\\xe2\\x9a\\xa1'</td>\n",
       "      <td>If you are unable to see the images in this em...</td>\n",
       "    </tr>\n",
       "    <tr>\n",
       "      <th>109</th>\n",
       "      <td>2018-11-26</td>\n",
       "      <td>04:11:12</td>\n",
       "      <td>Mon</td>\n",
       "      <td>4</td>\n",
       "      <td>CYBER MONDAY w/500 NEW Steals NOW!!!</td>\n",
       "      <td>If you are unable to see the images in this em...</td>\n",
       "    </tr>\n",
       "  </tbody>\n",
       "</table>\n",
       "</div>"
      ],
      "text/plain": [
       "       Date_dt      Time  Day  Hour  \\\n",
       "105 2018-11-26  19:56:48  Mon    19   \n",
       "106 2018-11-26  17:45:43  Mon    17   \n",
       "107 2018-11-26  13:45:21  Mon    13   \n",
       "108 2018-11-26  09:34:37  Mon     9   \n",
       "109 2018-11-26  04:11:12  Mon     4   \n",
       "\n",
       "                                       Subject  \\\n",
       "105      PM Price Drop - $16.20 Puffer Jackets   \n",
       "106  NOW! EXTRA 10% OFF All Our Lowest Prices!   \n",
       "107    BREAKING NOW: $9 Sweaters & $18 Jackets   \n",
       "108                            b'\\xe2\\x9a\\xa1'   \n",
       "109       CYBER MONDAY w/500 NEW Steals NOW!!!   \n",
       "\n",
       "                                                  Text  \n",
       "105  If you are unable to see the images in this em...  \n",
       "106  If you are unable to see the images in this em...  \n",
       "107  If you are unable to see the images in this em...  \n",
       "108  If you are unable to see the images in this em...  \n",
       "109  If you are unable to see the images in this em...  "
      ]
     },
     "execution_count": 21,
     "metadata": {},
     "output_type": "execute_result"
    }
   ],
   "source": [
    "cyber_sunday=nyc[(nyc['Date_dt']=='2018-11-26')]\n",
    "cyber_sunday.head(10)"
   ]
  },
  {
   "cell_type": "code",
   "execution_count": 22,
   "metadata": {
    "ExecuteTime": {
     "end_time": "2018-12-25T08:34:35.540515Z",
     "start_time": "2018-12-25T08:34:35.520533Z"
    }
   },
   "outputs": [
    {
     "name": "stdout",
     "output_type": "stream",
     "text": [
      "PM Price Drop - $16.20 Puffer Jackets\n",
      "If you are unable to see the images in this email, click here\r\n",
      "http://e.nyandcompany.com/a/tBb-LkQB8uB29B9u7Z1ABmlOYgl/viewonline?t_params=3uj$TIuxsKXI-icnJo9HSQ217abEdXHVEzLcRjzit97LszUbgACGeFa2bYeqMJ4sWhWmlEQ8CV6wAfZ-02r6LaLAsvQddfH3TQFBTr3Ugt66cYpVola$lGhcBjKGoJ9kyWv8DSekaddXP-a4bhqVMXFTd3PW6MqIMRflwJ10W5hIFH299h6XQH1WHTrzavYLr2MydUrISWZb\r\n",
      "\r\n",
      "New York & Company \r\n",
      "http://e.nyandcompany.com/a/tBb-LkQB8uB29B9u7Z1ABmlOYgl/main\r\n",
      "-----------------------------------------------------------------\r\n",
      "\r\n",
      "CYBER MONDAY is Almost Over... No Exclusions Extra 10% Off Coupon\r\n",
      "& Every Single Cyber Steal ENDING!\r\n",
      "http://e.nyandcompany.com/a/tBb-LkQB8uB29B9u7Z1ABmlOYgl/main\r\n",
      "\r\n",
      "-----------------------------------------------------------------\r\n",
      "\r\n",
      "Facebook:\r\n",
      "http://e.nyandcompany.com/a/tBb-LkQB8uB29B9u7Z1ABmlOYgl/facebook \r\n",
      "\r\n",
      "Twitter:\r\n",
      "http://e.nyandcompany.com/a/tBb-LkQB8uB29B9u7Z1ABmlOYgl/twitter \r\n",
      "\r\n",
      "Pinterest\r\n",
      "http://e.nyandcompany.com/a/tBb-LkQB8uB29B9u7Z1ABmlOYgl/pinterest \r\n",
      "\r\n",
      "Instagram\r\n",
      "http://e.nyandcompany.com/a/tBb-LkQB8uB29B9u7Z1ABmlOYgl/instagram\r\n",
      " \r\n",
      "Google Plus\r\n",
      "http://e.nyandcompany.com/a/tBb-LkQB8uB29B9u7Z1ABmlOYgl/google\r\n",
      "\r\n",
      "-----------------------------------------------------------------\r\n",
      "\r\n",
      "WHY DID I RECEIVE THIS EMAIL\r\n",
      "You've received this message because you registered to receive email\r\n",
      "from New York & Company.\r\n",
      "\r\n",
      "Unsubscribe:\r\n",
      "http://e.nyandcompany.com/a/tBb-LkQB8uB29B9u7Z1ABmlOYgl/unsub?password=B8uB29ABmlOYBb-LkQNzGBG0tqB2Se&email=arjunwadkardnyanada@gmail.com\r\n",
      "\r\n",
      "If you've received this email from a friend you can subscribe\r\n",
      "and hear it first:\r\n",
      "http://e.nyandcompany.com/a/tBb-LkQB8uB29B9u7Z1ABmlOYgl/signup=\r\n",
      "\r\n",
      "THIS EMAIL ALWAYS FALLS IN MY JUNK FOLDER\r\n",
      "To ensure delivery to your inbox (not bulk or junk folders), please add\r\n",
      "newyorkandcompany@e.nyandcompany.com to your address book. \r\n",
      "\r\n",
      "ADDITIONAL INFO\r\n",
      "\r\n",
      "Visit nyandcompany.com for more information:\r\n",
      "http://e.nyandcompany.com/a/tBb-LkQB8uB29B9u7Z1ABmlOYgl/disclaimer\r\n",
      "\r\n",
      "Privacy policy:\r\n",
      "http://e.nyandcompany.com/a/tBb-LkQB8uB29B9u7Z1ABmlOYgl/privacy\r\n",
      "\r\n",
      "New York & Company Corporate\r\n",
      "330 West 34th Street\r\n",
      "New York, NY 10001\r\n",
      "\n"
     ]
    }
   ],
   "source": [
    "print(cyber_sunday.iloc[0]['Subject'])\n",
    "print(cyber_sunday.iloc[0]['Text'])"
   ]
  },
  {
   "cell_type": "markdown",
   "metadata": {},
   "source": [
    "# Visualization\n"
   ]
  },
  {
   "cell_type": "code",
   "execution_count": 23,
   "metadata": {
    "ExecuteTime": {
     "end_time": "2018-12-25T08:34:39.252967Z",
     "start_time": "2018-12-25T08:34:38.196494Z"
    }
   },
   "outputs": [
    {
     "data": {
      "image/png": "[encoded data removed]",
      "text/plain": [
       "<matplotlib.figure.Figure at 0x1ceca6ee320>"
      ]
     },
     "metadata": {},
     "output_type": "display_data"
    }
   ],
   "source": [
    "plt.figure(figsize=(10,8))\n",
    "sns.set(style='whitegrid', palette='muted', font_scale=1.3)\n",
    "sns.countplot(nyc['Hour'], order=np.arange(0,24));\n",
    "plt.xlabel('Hour of the Day (PST)')\n",
    "plt.ylabel('Count');\n",
    "plt.title('When can you expect the mail ?')\n",
    "plt.show()"
   ]
  },
  {
   "cell_type": "code",
   "execution_count": 24,
   "metadata": {
    "ExecuteTime": {
     "end_time": "2018-12-25T08:34:42.856850Z",
     "start_time": "2018-12-25T08:34:40.655260Z"
    },
    "collapsed": true
   },
   "outputs": [],
   "source": [
    "import re\n",
    "from nltk.corpus import stopwords\n",
    "from collections import Counter\n",
    "import nltk\n",
    "nltk.download('English')\n",
    "nltk.download('stopwords')\n",
    "from nltk import word_tokenize,sent_tokenize"
   ]
  },
  {
   "cell_type": "code",
   "execution_count": 27,
   "metadata": {
    "ExecuteTime": {
     "end_time": "2018-12-25T08:37:08.933137Z",
     "start_time": "2018-12-25T08:36:40.225161Z"
    }
   },
   "outputs": [],
   "source": [
    "# Tokenize and remove stop words in Subject\n",
    "subject_str = nyc['Subject'].to_string()\n",
    "words = nltk.word_tokenize(subject_str)\n",
    "clean = [word for word in words if word not in stopwords.words('english')]\n",
    "\n",
    "# Remove punctuation and numbers\n",
    "punctuation = re.compile(r'[-.?!,\":;()|0-9]')\n",
    "clean = [punctuation.sub(\"\", word) for word in clean]\n",
    "clean = [word.lower() for word in clean if len(word) > 0]\n",
    "\n",
    "# Get most common words\n",
    "words = [item[0] for item in Counter(clean).most_common(10)]\n",
    "counts = [item[1] for item in Counter(clean).most_common(10)]"
   ]
  },
  {
   "cell_type": "markdown",
   "metadata": {},
   "source": [
    "# Email Subject NYC\n",
    "you can see that they have used catchy terms like '$', 'Off', '%' discount,'new','+' discount,'free' and 'sale'\n",
    "to catch attention of readers and potential customers making it look like irrestible offer"
   ]
  },
  {
   "cell_type": "code",
   "execution_count": 47,
   "metadata": {
    "ExecuteTime": {
     "end_time": "2018-12-26T19:13:21.770296Z",
     "start_time": "2018-12-26T19:13:21.028021Z"
    }
   },
   "outputs": [
    {
     "data": {
      "image/png": "[encoded data removed]",
      "text/plain": [
       "<matplotlib.figure.Figure at 0x1cecd9355f8>"
      ]
     },
     "metadata": {},
     "output_type": "display_data"
    }
   ],
   "source": [
    "# Visualization\n",
    "plt.figure(figsize=(10,5))\n",
    "sns.barplot(counts, words);\n",
    "plt.ylabel('');\n",
    "plt.xlabel('Number of Occurrences');\n",
    "plt.title('Frequent terms in Subject of Email')\n",
    "plt.show()"
   ]
  },
  {
   "cell_type": "code",
   "execution_count": 198,
   "metadata": {
    "ExecuteTime": {
     "end_time": "2018-12-26T22:48:54.996611Z",
     "start_time": "2018-12-26T22:48:54.114834Z"
    }
   },
   "outputs": [
    {
     "data": {
      "text/html": [
       "<div>\n",
       "<style>\n",
       "    .dataframe thead tr:only-child th {\n",
       "        text-align: right;\n",
       "    }\n",
       "\n",
       "    .dataframe thead th {\n",
       "        text-align: left;\n",
       "    }\n",
       "\n",
       "    .dataframe tbody tr th {\n",
       "        vertical-align: top;\n",
       "    }\n",
       "</style>\n",
       "<table border=\"1\" class=\"dataframe\">\n",
       "  <thead>\n",
       "    <tr style=\"text-align: right;\">\n",
       "      <th></th>\n",
       "      <th>Date_dt</th>\n",
       "      <th>Time</th>\n",
       "      <th>Day</th>\n",
       "      <th>Hour</th>\n",
       "      <th>Subject</th>\n",
       "      <th>Text</th>\n",
       "      <th>len_Sub</th>\n",
       "    </tr>\n",
       "  </thead>\n",
       "  <tbody>\n",
       "    <tr>\n",
       "      <th>0</th>\n",
       "      <td>2018-12-24</td>\n",
       "      <td>10:20:27</td>\n",
       "      <td>Mon</td>\n",
       "      <td>10</td>\n",
       "      <td>You Still Have Time!</td>\n",
       "      <td>If you are unable to see the images in this em...</td>\n",
       "      <td>20</td>\n",
       "    </tr>\n",
       "    <tr>\n",
       "      <th>1</th>\n",
       "      <td>2018-12-24</td>\n",
       "      <td>04:01:21</td>\n",
       "      <td>Mon</td>\n",
       "      <td>4</td>\n",
       "      <td>80% Off Last Chance Clearance Event</td>\n",
       "      <td>If you are unable to see the images in this em...</td>\n",
       "      <td>35</td>\n",
       "    </tr>\n",
       "    <tr>\n",
       "      <th>2</th>\n",
       "      <td>2018-12-23</td>\n",
       "      <td>17:23:40</td>\n",
       "      <td>Sun</td>\n",
       "      <td>17</td>\n",
       "      <td>Re: Your Holiday Trip...</td>\n",
       "      <td>If you are unable to see the images in this em...</td>\n",
       "      <td>24</td>\n",
       "    </tr>\n",
       "    <tr>\n",
       "      <th>3</th>\n",
       "      <td>2018-12-23</td>\n",
       "      <td>13:31:16</td>\n",
       "      <td>Sun</td>\n",
       "      <td>13</td>\n",
       "      <td>50% + 20% Off All Eva, Gabrielle &amp; More</td>\n",
       "      <td>If you are unable to see the images in this em...</td>\n",
       "      <td>39</td>\n",
       "    </tr>\n",
       "    <tr>\n",
       "      <th>4</th>\n",
       "      <td>2018-12-23</td>\n",
       "      <td>04:02:38</td>\n",
       "      <td>Sun</td>\n",
       "      <td>4</td>\n",
       "      <td>$2 Cozy Socks In Stores Today Only</td>\n",
       "      <td>If you are unable to see the images in this em...</td>\n",
       "      <td>34</td>\n",
       "    </tr>\n",
       "  </tbody>\n",
       "</table>\n",
       "</div>"
      ],
      "text/plain": [
       "     Date_dt      Time  Day  Hour                                  Subject  \\\n",
       "0 2018-12-24  10:20:27  Mon    10                     You Still Have Time!   \n",
       "1 2018-12-24  04:01:21  Mon     4      80% Off Last Chance Clearance Event   \n",
       "2 2018-12-23  17:23:40  Sun    17                 Re: Your Holiday Trip...   \n",
       "3 2018-12-23  13:31:16  Sun    13  50% + 20% Off All Eva, Gabrielle & More   \n",
       "4 2018-12-23  04:02:38  Sun     4       $2 Cozy Socks In Stores Today Only   \n",
       "\n",
       "                                                Text  len_Sub  \n",
       "0  If you are unable to see the images in this em...       20  \n",
       "1  If you are unable to see the images in this em...       35  \n",
       "2  If you are unable to see the images in this em...       24  \n",
       "3  If you are unable to see the images in this em...       39  \n",
       "4  If you are unable to see the images in this em...       34  "
      ]
     },
     "execution_count": 198,
     "metadata": {},
     "output_type": "execute_result"
    }
   ],
   "source": [
    "nyc['len_Sub']=nyc['Subject'].apply(lambda x:len(x))\n",
    "nyc.head()"
   ]
  },
  {
   "cell_type": "code",
   "execution_count": 203,
   "metadata": {
    "ExecuteTime": {
     "end_time": "2018-12-26T22:58:50.683172Z",
     "start_time": "2018-12-26T22:58:49.154106Z"
    }
   },
   "outputs": [
    {
     "data": {
      "text/plain": [
       "Text(0,0.5,'# of Emails')"
      ]
     },
     "execution_count": 203,
     "metadata": {},
     "output_type": "execute_result"
    },
    {
     "data": {
      "image/png": "[encoded data removed]",
      "text/plain": [
       "<matplotlib.figure.Figure at 0x1ced0ef1630>"
      ]
     },
     "metadata": {},
     "output_type": "display_data"
    }
   ],
   "source": [
    "plt.figure(figsize=(14,8))\n",
    "sns.distplot(nyc['len_Sub'], color = 'blue',kde=False);\n",
    "# Add labels\n",
    "plt.title('NYC Subject Length')\n",
    "plt.xlabel('# of Chars')\n",
    "plt.ylabel('# of Emails')"
   ]
  },
  {
   "cell_type": "code",
   "execution_count": 33,
   "metadata": {
    "ExecuteTime": {
     "end_time": "2018-12-25T08:41:29.177820Z",
     "start_time": "2018-12-25T08:40:34.478842Z"
    },
    "collapsed": true
   },
   "outputs": [],
   "source": [
    "# Body\n",
    "\n",
    "# Tokenize and remove stop words\n",
    "subject_str = nyc['Text'].to_string()\n",
    "words = nltk.word_tokenize(subject_str)\n",
    "clean = [word for word in words if word not in stopwords.words('english')]\n",
    "\n",
    "# Remove punctuation and numbers\n",
    "punctuation = re.compile(r'[-.?!,\":;()<>//``//]|0-9]')\n",
    "clean = [punctuation.sub(\"\", word) for word in clean]\n",
    "clean = [word.lower() for word in clean if len(word) > 0]\n",
    "\n",
    "# Get most common words\n",
    "words = [item[0] for item in Counter(clean).most_common(19)]\n",
    "counts = [item[1] for item in Counter(clean).most_common(19)]"
   ]
  },
  {
   "cell_type": "markdown",
   "metadata": {},
   "source": [
    "# Email body NYC\n",
    "all emails start with same line: If unable to see this email....\n",
    "this is reflected from out viz below"
   ]
  },
  {
   "cell_type": "code",
   "execution_count": 65,
   "metadata": {
    "ExecuteTime": {
     "end_time": "2018-12-26T19:39:30.625330Z",
     "start_time": "2018-12-26T19:39:29.691905Z"
    },
    "scrolled": true
   },
   "outputs": [
    {
     "data": {
      "image/png": "[encoded data removed]",
      "text/plain": [
       "<matplotlib.figure.Figure at 0x1cecc94a518>"
      ]
     },
     "metadata": {},
     "output_type": "display_data"
    }
   ],
   "source": [
    "# Visualization\n",
    "plt.figure(figsize=(10,5))\n",
    "sns.barplot(counts, words);\n",
    "plt.ylabel('');\n",
    "plt.xlabel('Number of Occurrences');\n",
    "plt.title('Frequent terms in Email body')\n",
    "plt.show()"
   ]
  },
  {
   "cell_type": "markdown",
   "metadata": {
    "ExecuteTime": {
     "end_time": "2018-12-26T19:22:00.565263Z",
     "start_time": "2018-12-26T19:22:00.551738Z"
    }
   },
   "source": [
    "# Gap Factory"
   ]
  },
  {
   "cell_type": "code",
   "execution_count": 52,
   "metadata": {
    "ExecuteTime": {
     "end_time": "2018-12-26T19:22:18.451462Z",
     "start_time": "2018-12-26T19:22:04.445007Z"
    }
   },
   "outputs": [
    {
     "name": "stdout",
     "output_type": "stream",
     "text": [
      "Enter your GMail username:arjunwadkardnyanada@gmail.com\n",
      "Enter your password: ········\n"
     ]
    }
   ],
   "source": [
    "user = input(\"Enter your GMail username:\")\n",
    "pwd = getpass.getpass(\"Enter your password: \")"
   ]
  },
  {
   "cell_type": "code",
   "execution_count": 53,
   "metadata": {
    "ExecuteTime": {
     "end_time": "2018-12-26T19:22:32.579591Z",
     "start_time": "2018-12-26T19:22:31.835778Z"
    }
   },
   "outputs": [
    {
     "data": {
      "text/plain": [
       "('OK', [b'arjunwadkardnyanada@gmail.com authenticated (Success)'])"
      ]
     },
     "execution_count": 53,
     "metadata": {},
     "output_type": "execute_result"
    }
   ],
   "source": [
    "m = imaplib.IMAP4_SSL(\"imap.gmail.com\")\n",
    "m.login(user, pwd)"
   ]
  },
  {
   "cell_type": "code",
   "execution_count": 54,
   "metadata": {
    "ExecuteTime": {
     "end_time": "2018-12-26T19:23:00.801739Z",
     "start_time": "2018-12-26T19:23:00.663198Z"
    }
   },
   "outputs": [
    {
     "data": {
      "text/plain": [
       "('OK', [b'679'])"
      ]
     },
     "execution_count": 54,
     "metadata": {},
     "output_type": "execute_result"
    }
   ],
   "source": [
    "# sleect folder\n",
    "m.select('\"gap\"')"
   ]
  },
  {
   "cell_type": "code",
   "execution_count": 55,
   "metadata": {
    "ExecuteTime": {
     "end_time": "2018-12-26T19:23:19.636565Z",
     "start_time": "2018-12-26T19:23:19.543826Z"
    },
    "collapsed": true
   },
   "outputs": [],
   "source": [
    "#If UTF8 is enabled, charset MUST be None.\n",
    "resp, items = m.search(None, \"All\")\n",
    "items = items[0].split()"
   ]
  },
  {
   "cell_type": "code",
   "execution_count": 59,
   "metadata": {
    "ExecuteTime": {
     "end_time": "2018-12-26T19:25:31.537268Z",
     "start_time": "2018-12-26T19:25:31.519809Z"
    },
    "collapsed": true
   },
   "outputs": [],
   "source": [
    "# Initialize lists\n",
    "text = []\n",
    "dates = []\n",
    "subjects = []"
   ]
  },
  {
   "cell_type": "code",
   "execution_count": 60,
   "metadata": {
    "ExecuteTime": {
     "end_time": "2018-12-26T19:29:52.869428Z",
     "start_time": "2018-12-26T19:26:49.014086Z"
    },
    "collapsed": true
   },
   "outputs": [],
   "source": [
    "# Collect data\n",
    "for emailid in items:\n",
    "    \n",
    "    # Fetch everything from the id\n",
    "    resp, data = m.fetch(emailid, \"(RFC822)\")\n",
    "    \n",
    "    # Get the content\n",
    "    email_body = data[0][1]\n",
    "    \n",
    "    # Convert to mail object\n",
    "    mail = email.message_from_bytes(email_body)\n",
    "    \n",
    "    # Get subject\n",
    "    subjects.append(email.header.decode_header(mail['Subject'])[0][0])\n",
    "    \n",
    "    # Get date\n",
    "    \n",
    "    date_tuple = email.utils.parsedate_tz(mail['Date'])\n",
    "    dates.append(datetime.fromtimestamp(email.utils.mktime_tz(date_tuple)))\n",
    "    \n",
    "    # Get text\n",
    "    if mail.is_multipart():\n",
    "        text.append(mail.get_payload(0).get_payload())\n",
    "    else:\n",
    "        text.append(mail.get_payload())"
   ]
  },
  {
   "cell_type": "code",
   "execution_count": 61,
   "metadata": {
    "ExecuteTime": {
     "end_time": "2018-12-26T19:31:21.875398Z",
     "start_time": "2018-12-26T19:31:21.825251Z"
    }
   },
   "outputs": [
    {
     "data": {
      "text/html": [
       "<div>\n",
       "<style>\n",
       "    .dataframe thead tr:only-child th {\n",
       "        text-align: right;\n",
       "    }\n",
       "\n",
       "    .dataframe thead th {\n",
       "        text-align: left;\n",
       "    }\n",
       "\n",
       "    .dataframe tbody tr th {\n",
       "        vertical-align: top;\n",
       "    }\n",
       "</style>\n",
       "<table border=\"1\" class=\"dataframe\">\n",
       "  <thead>\n",
       "    <tr style=\"text-align: right;\">\n",
       "      <th></th>\n",
       "      <th>Date</th>\n",
       "      <th>Subject</th>\n",
       "      <th>Text</th>\n",
       "    </tr>\n",
       "  </thead>\n",
       "  <tbody>\n",
       "    <tr>\n",
       "      <th>0</th>\n",
       "      <td>2018-12-26 07:52:14</td>\n",
       "      <td>b\"IT'S OFFICIAL\\xe2\\x80\\x94up to 75% off markd...</td>\n",
       "      <td>Up to 75% off markdowns + 40% off everything (...</td>\n",
       "    </tr>\n",
       "    <tr>\n",
       "      <th>1</th>\n",
       "      <td>2018-12-26 07:15:15</td>\n",
       "      <td>Great Gap Sale (up to 75% off) starts NOW</td>\n",
       "      <td>\\r\\n\\r\\nGap Outlet\\r\\nhttp://click.email.gapf...</td>\n",
       "    </tr>\n",
       "    <tr>\n",
       "      <th>2</th>\n",
       "      <td>2018-12-25 17:19:06</td>\n",
       "      <td>It all starts TOMORROW! (Trust: you don't want...</td>\n",
       "      <td>Great Gap Sale starts 12/26.\\r\\nGAP\\r\\nhttps:/...</td>\n",
       "    </tr>\n",
       "    <tr>\n",
       "      <th>3</th>\n",
       "      <td>2018-12-21 07:57:25</td>\n",
       "      <td>GIFTS SHIP UNTIL 3PM ET (plus, 51% OFF starts ...</td>\n",
       "      <td>Just in time: 51% OFF your purchase starts now...</td>\n",
       "    </tr>\n",
       "    <tr>\n",
       "      <th>4</th>\n",
       "      <td>2018-12-20 17:32:42</td>\n",
       "      <td>SHOP QUICK! HOURS LEFT for FREE shipping on $1...</td>\n",
       "      <td>45% off every single thing.\\r\\nGAP\\r\\nhttps://...</td>\n",
       "    </tr>\n",
       "  </tbody>\n",
       "</table>\n",
       "</div>"
      ],
      "text/plain": [
       "                 Date                                            Subject  \\\n",
       "0 2018-12-26 07:52:14  b\"IT'S OFFICIAL\\xe2\\x80\\x94up to 75% off markd...   \n",
       "1 2018-12-26 07:15:15          Great Gap Sale (up to 75% off) starts NOW   \n",
       "2 2018-12-25 17:19:06  It all starts TOMORROW! (Trust: you don't want...   \n",
       "3 2018-12-21 07:57:25  GIFTS SHIP UNTIL 3PM ET (plus, 51% OFF starts ...   \n",
       "4 2018-12-20 17:32:42  SHOP QUICK! HOURS LEFT for FREE shipping on $1...   \n",
       "\n",
       "                                                Text  \n",
       "0  Up to 75% off markdowns + 40% off everything (...  \n",
       "1   \\r\\n\\r\\nGap Outlet\\r\\nhttp://click.email.gapf...  \n",
       "2  Great Gap Sale starts 12/26.\\r\\nGAP\\r\\nhttps:/...  \n",
       "3  Just in time: 51% OFF your purchase starts now...  \n",
       "4  45% off every single thing.\\r\\nGAP\\r\\nhttps://...  "
      ]
     },
     "execution_count": 61,
     "metadata": {},
     "output_type": "execute_result"
    }
   ],
   "source": [
    "# Convert to dataframe\n",
    "gap = pd.DataFrame(data={'Date': dates, 'Subject': subjects, 'Text': text})\n",
    "gap.head()\n",
    "# \\xe2\\x80\\x94 is a -- in mails"
   ]
  },
  {
   "cell_type": "code",
   "execution_count": 63,
   "metadata": {
    "ExecuteTime": {
     "end_time": "2018-12-26T19:37:46.279394Z",
     "start_time": "2018-12-26T19:37:46.169152Z"
    },
    "collapsed": true
   },
   "outputs": [],
   "source": [
    "# Break up date column\n",
    "\n",
    "gap['Time']=gap['Date'].apply(lambda x:x.time())\n",
    "gap['Day']=gap['Date'].apply(lambda x: x.weekday()).map({0:'Mon', 1:'Tues',2:'Wedn',3:'Thurs',4:'Fri',5:'Sat',6:'Sun'})\n",
    "gap['Hour']=gap['Date'].apply(lambda x: x.hour)\n",
    "gap['Date_dt']=gap['Date'].apply(lambda x:x.date())\n",
    "gap['Date_dt']=pd.to_datetime(gap['Date_dt'])\n",
    "gap=gap[['Date_dt','Time','Day','Hour','Subject','Text']]"
   ]
  },
  {
   "cell_type": "code",
   "execution_count": 66,
   "metadata": {
    "ExecuteTime": {
     "end_time": "2018-12-26T19:39:44.832883Z",
     "start_time": "2018-12-26T19:39:44.800629Z"
    }
   },
   "outputs": [
    {
     "name": "stdout",
     "output_type": "stream",
     "text": [
      "<class 'pandas.core.frame.DataFrame'>\n",
      "RangeIndex: 679 entries, 0 to 678\n",
      "Data columns (total 6 columns):\n",
      "Date_dt    679 non-null datetime64[ns]\n",
      "Time       679 non-null object\n",
      "Day        679 non-null object\n",
      "Hour       679 non-null int64\n",
      "Subject    679 non-null object\n",
      "Text       679 non-null object\n",
      "dtypes: datetime64[ns](1), int64(1), object(4)\n",
      "memory usage: 31.9+ KB\n"
     ]
    }
   ],
   "source": [
    "gap.info()"
   ]
  },
  {
   "cell_type": "code",
   "execution_count": 67,
   "metadata": {
    "ExecuteTime": {
     "end_time": "2018-12-26T19:41:05.540553Z",
     "start_time": "2018-12-26T19:41:05.471574Z"
    }
   },
   "outputs": [
    {
     "data": {
      "text/plain": [
       "2018-06-28    5\n",
       "2018-11-27    4\n",
       "2018-02-26    4\n",
       "2017-12-04    4\n",
       "2017-11-28    4\n",
       "Name: Date_dt, dtype: int64"
      ]
     },
     "execution_count": 67,
     "metadata": {},
     "output_type": "execute_result"
    }
   ],
   "source": [
    "gap_pt=gap\n",
    "gap_pt.drop(['Time','Day','Hour','Text'],axis=1)\n",
    "gap_pt=gap_pt['Date_dt'].value_counts()\n",
    "gap_pt.head()"
   ]
  },
  {
   "cell_type": "code",
   "execution_count": 68,
   "metadata": {
    "ExecuteTime": {
     "end_time": "2018-12-26T19:42:11.427868Z",
     "start_time": "2018-12-26T19:42:11.414949Z"
    },
    "collapsed": true
   },
   "outputs": [],
   "source": [
    "gap_pt=pd.DataFrame(gap_pt)"
   ]
  },
  {
   "cell_type": "code",
   "execution_count": 87,
   "metadata": {
    "ExecuteTime": {
     "end_time": "2018-12-26T20:01:26.029265Z",
     "start_time": "2018-12-26T20:01:25.996151Z"
    }
   },
   "outputs": [
    {
     "name": "stdout",
     "output_type": "stream",
     "text": [
      "<class 'pandas.core.frame.DataFrame'>\n",
      "DatetimeIndex: 359 entries, 2018-06-28 to 2018-12-21\n",
      "Data columns (total 2 columns):\n",
      "Date_dt    359 non-null datetime64[ns]\n",
      "count      359 non-null int64\n",
      "dtypes: datetime64[ns](1), int64(1)\n",
      "memory usage: 18.4 KB\n"
     ]
    }
   ],
   "source": [
    "gap_pt['Date_dt']=pd.to_datetime(gap_pt['Date_dt'])\n",
    "gap_pt.info()"
   ]
  },
  {
   "cell_type": "code",
   "execution_count": 92,
   "metadata": {
    "ExecuteTime": {
     "end_time": "2018-12-26T20:02:51.976568Z",
     "start_time": "2018-12-26T20:02:51.928987Z"
    }
   },
   "outputs": [
    {
     "data": {
      "text/html": [
       "<div>\n",
       "<style>\n",
       "    .dataframe thead tr:only-child th {\n",
       "        text-align: right;\n",
       "    }\n",
       "\n",
       "    .dataframe thead th {\n",
       "        text-align: left;\n",
       "    }\n",
       "\n",
       "    .dataframe tbody tr th {\n",
       "        vertical-align: top;\n",
       "    }\n",
       "</style>\n",
       "<table border=\"1\" class=\"dataframe\">\n",
       "  <thead>\n",
       "    <tr style=\"text-align: right;\">\n",
       "      <th></th>\n",
       "      <th>Date_dt</th>\n",
       "      <th>count</th>\n",
       "    </tr>\n",
       "  </thead>\n",
       "  <tbody>\n",
       "    <tr>\n",
       "      <th>2018-06-28</th>\n",
       "      <td>1970-01-01 00:00:00.000000005</td>\n",
       "      <td>5</td>\n",
       "    </tr>\n",
       "    <tr>\n",
       "      <th>2018-11-27</th>\n",
       "      <td>1970-01-01 00:00:00.000000004</td>\n",
       "      <td>4</td>\n",
       "    </tr>\n",
       "    <tr>\n",
       "      <th>2018-02-26</th>\n",
       "      <td>1970-01-01 00:00:00.000000004</td>\n",
       "      <td>4</td>\n",
       "    </tr>\n",
       "    <tr>\n",
       "      <th>2017-12-04</th>\n",
       "      <td>1970-01-01 00:00:00.000000004</td>\n",
       "      <td>4</td>\n",
       "    </tr>\n",
       "    <tr>\n",
       "      <th>2017-11-28</th>\n",
       "      <td>1970-01-01 00:00:00.000000004</td>\n",
       "      <td>4</td>\n",
       "    </tr>\n",
       "  </tbody>\n",
       "</table>\n",
       "</div>"
      ],
      "text/plain": [
       "                                 Date_dt  count\n",
       "2018-06-28 1970-01-01 00:00:00.000000005      5\n",
       "2018-11-27 1970-01-01 00:00:00.000000004      4\n",
       "2018-02-26 1970-01-01 00:00:00.000000004      4\n",
       "2017-12-04 1970-01-01 00:00:00.000000004      4\n",
       "2017-11-28 1970-01-01 00:00:00.000000004      4"
      ]
     },
     "execution_count": 92,
     "metadata": {},
     "output_type": "execute_result"
    }
   ],
   "source": [
    "#gp=gap_pt[(gap_pt['Date_dt']> datetime.date(2017,11,1))]\n",
    "gap_pt.head()"
   ]
  },
  {
   "cell_type": "code",
   "execution_count": 90,
   "metadata": {
    "ExecuteTime": {
     "end_time": "2018-12-26T20:02:12.665356Z",
     "start_time": "2018-12-26T20:02:12.519119Z"
    }
   },
   "outputs": [
    {
     "data": {
      "text/plain": [
       "DatetimeIndex(['2018-06-28', '2018-11-27', '2018-02-26', '2017-12-04',\n",
       "               '2017-11-28', '2018-11-24', '2018-11-25', '2018-06-10',\n",
       "               '2017-11-27', '2018-11-23',\n",
       "               ...\n",
       "               '2018-09-18', '2018-08-17', '2018-03-16', '2018-01-13',\n",
       "               '2018-03-01', '2018-11-02', '2018-07-01', '2018-12-17',\n",
       "               '2018-07-20', '2018-12-21'],\n",
       "              dtype='datetime64[ns]', length=359, freq=None)"
      ]
     },
     "execution_count": 90,
     "metadata": {},
     "output_type": "execute_result"
    }
   ],
   "source": [
    "gap_pt.index"
   ]
  },
  {
   "cell_type": "code",
   "execution_count": 94,
   "metadata": {
    "ExecuteTime": {
     "end_time": "2018-12-26T20:04:23.384360Z",
     "start_time": "2018-12-26T20:04:23.179870Z"
    },
    "collapsed": true
   },
   "outputs": [],
   "source": [
    "gp=gap_pt.loc['2017-11-20':]"
   ]
  },
  {
   "cell_type": "code",
   "execution_count": 99,
   "metadata": {
    "ExecuteTime": {
     "end_time": "2018-12-26T20:06:53.801861Z",
     "start_time": "2018-12-26T20:06:49.598035Z"
    }
   },
   "outputs": [
    {
     "data": {
      "image/png": "[encoded data removed]",
      "text/plain": [
       "<matplotlib.figure.Figure at 0x1ceca3da390>"
      ]
     },
     "metadata": {},
     "output_type": "display_data"
    }
   ],
   "source": [
    "import pandas as pd\n",
    "import matplotlib.pyplot as plt\n",
    "import matplotlib.dates as mdates\n",
    "\n",
    "\n",
    "fig, ax = plt.subplots(figsize=(15,7))\n",
    "#gp.drop(['Date_dt'],axis=1).plot(ax=ax,color='blue', linewidth=1, alpha=0.4)\n",
    "ax.bar(gp.index, gp['count'],color='blue', linewidth=1, alpha=0.4)\n",
    "#set ticks every week\n",
    "ax.xaxis.set_major_locator(mdates.AutoDateLocator())\n",
    "\n",
    "#set major ticks format\n",
    "ax.xaxis.set_major_formatter(mdates.DateFormatter('%b %y'))"
   ]
  },
  {
   "cell_type": "markdown",
   "metadata": {},
   "source": [
    "# Most frequent days of the week?\n",
    "Sunday is clearly the most favourite day to reach out to customers\n"
   ]
  },
  {
   "cell_type": "code",
   "execution_count": 144,
   "metadata": {
    "ExecuteTime": {
     "end_time": "2018-12-26T21:06:04.501991Z",
     "start_time": "2018-12-26T21:06:03.428713Z"
    }
   },
   "outputs": [
    {
     "data": {
      "image/png": "[encoded data removed]",
      "text/plain": [
       "<matplotlib.figure.Figure at 0x1ceccbade48>"
      ]
     },
     "metadata": {},
     "output_type": "display_data"
    }
   ],
   "source": [
    "# Visualization\n",
    "\n",
    "plt.figure(figsize=(12,8))\n",
    "\n",
    "sns.set(font_scale=1.8)\n",
    "sns.set_style('whitegrid')\n",
    "sns.countplot(gap['Day'], order=['Mon', 'Tues', 'Wedn', 'Thurs', 'Fri', 'Sat', 'Sun'],linewidth=5,edgecolor=sns.color_palette(\"dark\", 7));\n",
    "plt.xlabel('Day of the Week')\n",
    "plt.ylabel('Count');\n",
    "plt.title('Gap Factory')\n",
    "plt.show()"
   ]
  },
  {
   "cell_type": "markdown",
   "metadata": {},
   "source": [
    "# Sunday Email timing strategy\n",
    "Sunday early morning emails seems to be a good way to reach out to customers assuming most customers are at malls then\n",
    "(may be this is the decision to mail on Sunday mornings is something they have come up with based on sales data )"
   ]
  },
  {
   "cell_type": "code",
   "execution_count": 108,
   "metadata": {
    "ExecuteTime": {
     "end_time": "2018-12-26T20:28:15.292854Z",
     "start_time": "2018-12-26T20:28:14.286860Z"
    }
   },
   "outputs": [
    {
     "data": {
      "image/png": "[encoded data removed]",
      "text/plain": [
       "<matplotlib.figure.Figure at 0x1cecefeb6d8>"
      ]
     },
     "metadata": {},
     "output_type": "display_data"
    }
   ],
   "source": [
    "sh=gap[gap['Day']=='Sun']\n",
    "#sh['Hour'].value_counts().plot(kind='bar')\n",
    "\n",
    "# Visualization\n",
    "plt.figure(figsize=(10,8))\n",
    "sns.countplot(sh['Hour'], order=np.arange(0,24));\n",
    "plt.xlabel('Hour of the Day for Sunday')\n",
    "plt.ylabel('Count');\n",
    "plt.title('Sunday')\n",
    "plt.show()"
   ]
  },
  {
   "cell_type": "code",
   "execution_count": 205,
   "metadata": {
    "ExecuteTime": {
     "end_time": "2018-12-26T23:03:55.296504Z",
     "start_time": "2018-12-26T23:03:54.066187Z"
    }
   },
   "outputs": [
    {
     "data": {
      "image/png": "[encoded data removed]",
      "text/plain": [
       "<matplotlib.figure.Figure at 0x1ced1165fd0>"
      ]
     },
     "metadata": {},
     "output_type": "display_data"
    }
   ],
   "source": [
    "# Visualization\n",
    "plt.figure(figsize=(10,8))\n",
    "sns.countplot(gap['Hour'], order=np.arange(0,24));\n",
    "plt.xlabel('Hour of the Day Gap')\n",
    "plt.ylabel('Count');\n",
    "plt.title('Sunday')\n",
    "plt.show()"
   ]
  },
  {
   "cell_type": "code",
   "execution_count": 112,
   "metadata": {
    "ExecuteTime": {
     "end_time": "2018-12-26T20:30:29.381875Z",
     "start_time": "2018-12-26T20:30:29.365068Z"
    }
   },
   "outputs": [
    {
     "data": {
      "text/plain": [
       "679"
      ]
     },
     "execution_count": 112,
     "metadata": {},
     "output_type": "execute_result"
    }
   ],
   "source": [
    "len(gap)"
   ]
  },
  {
   "cell_type": "markdown",
   "metadata": {},
   "source": [
    "# Unique Subject line every time"
   ]
  },
  {
   "cell_type": "code",
   "execution_count": 115,
   "metadata": {
    "ExecuteTime": {
     "end_time": "2018-12-26T20:32:18.662638Z",
     "start_time": "2018-12-26T20:32:18.626328Z"
    }
   },
   "outputs": [
    {
     "data": {
      "text/plain": [
       "Fwd: samples                                                                                      11\n",
       "Logo Remixed. Redefined. Reinvented.                                                               2\n",
       "b'Up to 70% off\\xe2\\x80\\x94and layer on code ALLYOURS (hint: save on these winter essentials)'     1\n",
       "With gratitude! 50% OFF EVERYTHING + shipping offer inside.                                        1\n",
       "Jump-start your weekend with something new (bonus, too!)                                           1\n",
       "Redeem code EVERYTHING now!                                                                        1\n",
       "Vintage Soft Sweats. 10 colors. 4 styles. Talk about options                                       1\n",
       "THIS. IS. IT. Up to 70% off + EXTRA 50% off                                                        1\n",
       "(Code THANKS) We're giving you 40% off everything                                                  1\n",
       ":) We're emailing you about code BRIGHT                                                            1\n",
       "Name: Subject, dtype: int64"
      ]
     },
     "execution_count": 115,
     "metadata": {},
     "output_type": "execute_result"
    }
   ],
   "source": [
    "gap['Subject'].value_counts().head(10)"
   ]
  },
  {
   "cell_type": "code",
   "execution_count": 148,
   "metadata": {
    "ExecuteTime": {
     "end_time": "2018-12-26T22:01:14.853222Z",
     "start_time": "2018-12-26T22:01:12.455122Z"
    }
   },
   "outputs": [
    {
     "data": {
      "text/html": [
       "<div>\n",
       "<style>\n",
       "    .dataframe thead tr:only-child th {\n",
       "        text-align: right;\n",
       "    }\n",
       "\n",
       "    .dataframe thead th {\n",
       "        text-align: left;\n",
       "    }\n",
       "\n",
       "    .dataframe tbody tr th {\n",
       "        vertical-align: top;\n",
       "    }\n",
       "</style>\n",
       "<table border=\"1\" class=\"dataframe\">\n",
       "  <thead>\n",
       "    <tr style=\"text-align: right;\">\n",
       "      <th></th>\n",
       "      <th>Date_dt</th>\n",
       "      <th>Time</th>\n",
       "      <th>Day</th>\n",
       "      <th>Hour</th>\n",
       "      <th>Subject</th>\n",
       "      <th>Text</th>\n",
       "      <th>len_Sub</th>\n",
       "    </tr>\n",
       "  </thead>\n",
       "  <tbody>\n",
       "    <tr>\n",
       "      <th>0</th>\n",
       "      <td>2018-12-26</td>\n",
       "      <td>07:52:14</td>\n",
       "      <td>Wedn</td>\n",
       "      <td>7</td>\n",
       "      <td>b\"IT'S OFFICIAL\\xe2\\x80\\x94up to 75% off markd...</td>\n",
       "      <td>Up to 75% off markdowns + 40% off everything (...</td>\n",
       "      <td>77</td>\n",
       "    </tr>\n",
       "    <tr>\n",
       "      <th>1</th>\n",
       "      <td>2018-12-26</td>\n",
       "      <td>07:15:15</td>\n",
       "      <td>Wedn</td>\n",
       "      <td>7</td>\n",
       "      <td>Great Gap Sale (up to 75% off) starts NOW</td>\n",
       "      <td>\\r\\n\\r\\nGap Outlet\\r\\nhttp://click.email.gapf...</td>\n",
       "      <td>41</td>\n",
       "    </tr>\n",
       "    <tr>\n",
       "      <th>2</th>\n",
       "      <td>2018-12-25</td>\n",
       "      <td>17:19:06</td>\n",
       "      <td>Tues</td>\n",
       "      <td>17</td>\n",
       "      <td>It all starts TOMORROW! (Trust: you don't want...</td>\n",
       "      <td>Great Gap Sale starts 12/26.\\r\\nGAP\\r\\nhttps:/...</td>\n",
       "      <td>61</td>\n",
       "    </tr>\n",
       "    <tr>\n",
       "      <th>3</th>\n",
       "      <td>2018-12-21</td>\n",
       "      <td>07:57:25</td>\n",
       "      <td>Fri</td>\n",
       "      <td>7</td>\n",
       "      <td>GIFTS SHIP UNTIL 3PM ET (plus, 51% OFF starts ...</td>\n",
       "      <td>Just in time: 51% OFF your purchase starts now...</td>\n",
       "      <td>51</td>\n",
       "    </tr>\n",
       "    <tr>\n",
       "      <th>4</th>\n",
       "      <td>2018-12-20</td>\n",
       "      <td>17:32:42</td>\n",
       "      <td>Thurs</td>\n",
       "      <td>17</td>\n",
       "      <td>SHOP QUICK! HOURS LEFT for FREE shipping on $1...</td>\n",
       "      <td>45% off every single thing.\\r\\nGAP\\r\\nhttps://...</td>\n",
       "      <td>58</td>\n",
       "    </tr>\n",
       "  </tbody>\n",
       "</table>\n",
       "</div>"
      ],
      "text/plain": [
       "     Date_dt      Time    Day  Hour  \\\n",
       "0 2018-12-26  07:52:14   Wedn     7   \n",
       "1 2018-12-26  07:15:15   Wedn     7   \n",
       "2 2018-12-25  17:19:06   Tues    17   \n",
       "3 2018-12-21  07:57:25    Fri     7   \n",
       "4 2018-12-20  17:32:42  Thurs    17   \n",
       "\n",
       "                                             Subject  \\\n",
       "0  b\"IT'S OFFICIAL\\xe2\\x80\\x94up to 75% off markd...   \n",
       "1          Great Gap Sale (up to 75% off) starts NOW   \n",
       "2  It all starts TOMORROW! (Trust: you don't want...   \n",
       "3  GIFTS SHIP UNTIL 3PM ET (plus, 51% OFF starts ...   \n",
       "4  SHOP QUICK! HOURS LEFT for FREE shipping on $1...   \n",
       "\n",
       "                                                Text  len_Sub  \n",
       "0  Up to 75% off markdowns + 40% off everything (...       77  \n",
       "1   \\r\\n\\r\\nGap Outlet\\r\\nhttp://click.email.gapf...       41  \n",
       "2  Great Gap Sale starts 12/26.\\r\\nGAP\\r\\nhttps:/...       61  \n",
       "3  Just in time: 51% OFF your purchase starts now...       51  \n",
       "4  45% off every single thing.\\r\\nGAP\\r\\nhttps://...       58  "
      ]
     },
     "execution_count": 148,
     "metadata": {},
     "output_type": "execute_result"
    }
   ],
   "source": [
    "gap['len_Sub']=gap['Subject'].apply(lambda x:len(x))\n",
    "gap.head()"
   ]
  },
  {
   "cell_type": "code",
   "execution_count": 196,
   "metadata": {
    "ExecuteTime": {
     "end_time": "2018-12-26T22:47:05.896090Z",
     "start_time": "2018-12-26T22:47:04.905831Z"
    }
   },
   "outputs": [
    {
     "data": {
      "text/plain": [
       "Text(0,0.5,'# of Emails')"
      ]
     },
     "execution_count": 196,
     "metadata": {},
     "output_type": "execute_result"
    },
    {
     "data": {
      "image/png": "[encoded data removed]",
      "text/plain": [
       "<matplotlib.figure.Figure at 0x1ced0cedb00>"
      ]
     },
     "metadata": {},
     "output_type": "display_data"
    }
   ],
   "source": [
    "plt.figure(figsize=(10,8))\n",
    "sns.distplot(gap['len_Sub'], color = 'blue',kde=False);\n",
    "# Add labels\n",
    "plt.title('Gap Subject Length')\n",
    "plt.xlabel('# of Chars')\n",
    "plt.ylabel('# of Emails')"
   ]
  },
  {
   "cell_type": "code",
   "execution_count": null,
   "metadata": {
    "collapsed": true
   },
   "outputs": [],
   "source": []
  },
  {
   "cell_type": "code",
   "execution_count": null,
   "metadata": {
    "collapsed": true
   },
   "outputs": [],
   "source": []
  },
  {
   "cell_type": "code",
   "execution_count": null,
   "metadata": {
    "collapsed": true
   },
   "outputs": [],
   "source": []
  },
  {
   "cell_type": "code",
   "execution_count": null,
   "metadata": {
    "collapsed": true
   },
   "outputs": [],
   "source": []
  },
  {
   "cell_type": "code",
   "execution_count": 116,
   "metadata": {
    "ExecuteTime": {
     "end_time": "2018-12-26T20:37:58.404336Z",
     "start_time": "2018-12-26T20:37:58.385876Z"
    },
    "collapsed": true
   },
   "outputs": [],
   "source": [
    "import re\n",
    "from nltk.corpus import stopwords\n",
    "from collections import Counter\n",
    "import nltk\n",
    "#nltk.download('English')\n",
    "#nltk.download('stopwords')\n",
    "from nltk import word_tokenize,sent_tokenize"
   ]
  },
  {
   "cell_type": "code",
   "execution_count": 137,
   "metadata": {
    "ExecuteTime": {
     "end_time": "2018-12-26T20:53:54.174820Z",
     "start_time": "2018-12-26T20:53:38.838592Z"
    }
   },
   "outputs": [],
   "source": [
    "# Tokenize and remove stop words in Subject\n",
    "subject_str = gap['Subject'].to_string()\n",
    "words = nltk.word_tokenize(subject_str)\n",
    "clean = [word for word in words if word not in (stopwords.words('english'))]\n",
    "\n",
    "# Remove punctuation and numbers\n",
    "punctuation = re.compile(r'[-.?!,\\',\":;()|0-9]')\n",
    "clean = [punctuation.sub(\"\", word) for word in clean]\n",
    "clean = [word.lower() for word in clean if len(word) > 0]\n",
    "\n",
    "# Get most common words\n",
    "clean=[word for word in clean if word not in ['ve','re','s','b']]\n",
    "words = [item[0] for item in Counter(clean).most_common(19)]\n",
    "counts = [item[1] for item in Counter(clean).most_common(19)]"
   ]
  },
  {
   "cell_type": "markdown",
   "metadata": {},
   "source": [
    "# Subject:\n",
    "popular words: '%','+','$','code','extra','everything','sale','bonus'"
   ]
  },
  {
   "cell_type": "code",
   "execution_count": 139,
   "metadata": {
    "ExecuteTime": {
     "end_time": "2018-12-26T20:54:03.215843Z",
     "start_time": "2018-12-26T20:54:01.948870Z"
    }
   },
   "outputs": [
    {
     "data": {
      "image/png": "[encoded data removed]",
      "text/plain": [
       "<matplotlib.figure.Figure at 0x1cecf7cc0f0>"
      ]
     },
     "metadata": {},
     "output_type": "display_data"
    }
   ],
   "source": [
    "# Visualization\n",
    "plt.figure(figsize=(10,10))\n",
    "sns.barplot(counts, words);\n",
    "plt.ylabel('');\n",
    "plt.xlabel('Number of Occurrences');\n",
    "plt.title('Frequent terms in Subject of Email for Gap')\n",
    "plt.show()"
   ]
  },
  {
   "cell_type": "code",
   "execution_count": 140,
   "metadata": {
    "ExecuteTime": {
     "end_time": "2018-12-26T20:56:09.833009Z",
     "start_time": "2018-12-26T20:55:56.169280Z"
    },
    "collapsed": true
   },
   "outputs": [],
   "source": [
    "# Tokenize and remove stop words\n",
    "subject_str = gap['Text'].to_string()\n",
    "words = nltk.word_tokenize(subject_str)\n",
    "clean = [word for word in words if word not in stopwords.words('english')]\n",
    "\n",
    "# Remove punctuation and numbers\n",
    "punctuation = re.compile(r'[-.?!,\":;()<>//``//]|0-9]')\n",
    "clean = [punctuation.sub(\"\", word) for word in clean]\n",
    "clean = [word.lower() for word in clean if len(word) > 0]\n",
    "\n",
    "# Get most common words\n",
    "words = [item[0] for item in Counter(clean).most_common(19)]\n",
    "counts = [item[1] for item in Counter(clean).most_common(19)]"
   ]
  },
  {
   "cell_type": "code",
   "execution_count": 141,
   "metadata": {
    "ExecuteTime": {
     "end_time": "2018-12-26T20:56:38.141080Z",
     "start_time": "2018-12-26T20:56:36.329145Z"
    }
   },
   "outputs": [
    {
     "data": {
      "image/png": "[encoded data removed]",
      "text/plain": [
       "<matplotlib.figure.Figure at 0x1ced0fe56d8>"
      ]
     },
     "metadata": {},
     "output_type": "display_data"
    }
   ],
   "source": [
    "# Visualization\n",
    "plt.figure(figsize=(10,10))\n",
    "sns.barplot(counts, words);\n",
    "plt.ylabel('');\n",
    "plt.xlabel('Number of Occurrences');\n",
    "plt.title('Frequent terms in Body of Email for Gap')\n",
    "plt.show()"
   ]
  },
  {
   "cell_type": "markdown",
   "metadata": {},
   "source": [
    "# there is minimum Text content most of it is displayed in images"
   ]
  },
  {
   "cell_type": "code",
   "execution_count": 211,
   "metadata": {
    "ExecuteTime": {
     "end_time": "2018-12-26T23:19:50.047572Z",
     "start_time": "2018-12-26T23:19:50.026585Z"
    }
   },
   "outputs": [
    {
     "data": {
      "text/plain": [
       "'GAP\\r\\nhttps://click.email.gap.com/?qs=940e8b5d6a4da31571ada0cc2cd2d54af8bd545dce98f8262da0f7ad2e4517df370095bc442b3bcbadcdba348c8c9f9e641e2e7f5e08b55c\\r\\n\\r\\n----------------------------------------------------------------------\\r\\n \\r\\nClick below to view this message from Gap in a web browser:\\r\\nhttps://view.email.gap.com/?qs=f0a4bf6a6279978ce873c61cf17ce8dfd5a196d499c473c432d38c13ec9fb2d3226fad1152e67a60c2f017336c9361b340cb7b7060d4326cc8942d9918f8c81b9843d8d098ceb6a8e605ee3cf0e3b85a\\r\\n \\r\\n----------------------------------------------------------------------\\r\\n\\r\\nPrivacy Policy:\\r\\nhttps://click.email.gap.com/?qs=940e8b5d6a4da3156b3d999835add9ab9a6c367d4a6944403ef6ac43cb182f89faa4a769806c93c00d413dc1a47a70d2beb9dd3adba36842\\r\\n \\r\\nUnsubscribe:\\r\\nhttps://click.email.gap.com/?qs=940e8b5d6a4da3156fa18940b051bb558ada2305f139105e17df2b0289e468b660fc825e2e61ec394a21dd954032b0d97b4f8ce2e69d1698\\r\\n\\r\\nCustomer Services, 100 Gap Online Drive, Grove City, OH 43123-8605.\\r\\n'"
      ]
     },
     "execution_count": 211,
     "metadata": {},
     "output_type": "execute_result"
    }
   ],
   "source": [
    "gap.iloc[450]['Text']"
   ]
  },
  {
   "cell_type": "code",
   "execution_count": null,
   "metadata": {
    "collapsed": true
   },
   "outputs": [],
   "source": []
  }
 ],
 "metadata": {
  "kernelspec": {
   "display_name": "Python 3",
   "language": "python",
   "name": "python3"
  },
  "language_info": {
   "codemirror_mode": {
    "name": "ipython",
    "version": 3
   },
   "file_extension": ".py",
   "mimetype": "text/x-python",
   "name": "python",
   "nbconvert_exporter": "python",
   "pygments_lexer": "ipython3",
   "version": "3.6.3"
  },
  "latex_envs": {
   "LaTeX_envs_menu_present": true,
   "autoclose": false,
   "autocomplete": true,
   "bibliofile": "biblio.bib",
   "cite_by": "apalike",
   "current_citInitial": 1,
   "eqLabelWithNumbers": true,
   "eqNumInitial": 1,
   "hotkeys": {
    "equation": "Ctrl-E",
    "itemize": "Ctrl-I"
   },
   "labels_anchors": false,
   "latex_user_defs": false,
   "report_style_numbering": false,
   "user_envs_cfg": false
  }
 },
 "nbformat": 4,
 "nbformat_minor": 2
}
